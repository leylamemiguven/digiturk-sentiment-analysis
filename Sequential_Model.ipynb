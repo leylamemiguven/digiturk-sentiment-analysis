{
  "nbformat": 4,
  "nbformat_minor": 0,
  "metadata": {
    "colab": {
      "name": "Sequential Model",
      "provenance": [],
      "collapsed_sections": [],
      "mount_file_id": "1Z3yEJbiTuzle8hF0YiCDGRU0ez8Wj0Ue",
      "authorship_tag": "ABX9TyPdiqwCD5DB1jSBqJL/59Xw",
      "include_colab_link": true
    },
    "kernelspec": {
      "name": "python3",
      "display_name": "Python 3"
    }
  },
  "cells": [
    {
      "cell_type": "markdown",
      "metadata": {
        "id": "view-in-github",
        "colab_type": "text"
      },
      "source": [
        "<a href=\"https://colab.research.google.com/github/leylamemiguven/digiturk-sentiment-analysis/blob/main/Sequential_Model.ipynb\" target=\"_parent\"><img src=\"https://colab.research.google.com/assets/colab-badge.svg\" alt=\"Open In Colab\"/></a>"
      ]
    },
    {
      "cell_type": "code",
      "metadata": {
        "id": "ES2SlhoIUj9S"
      },
      "source": [
        "import os\n",
        "import re\n",
        "import pickle\n",
        "\n",
        "import numpy as np\n",
        "import pandas as pd\n",
        "import matplotlib.pyplot as plt\n",
        "\n",
        "from tensorflow import keras\n",
        "from keras import models \n",
        "from keras.preprocessing.text import Tokenizer\n",
        "from keras.models import Sequential, save_model, load_model\n",
        "from keras.preprocessing.sequence import pad_sequences\n",
        "from keras.layers import Dense, Embedding, LSTM, SpatialDropout1D\n",
        "from keras.utils.np_utils import to_categorical\n",
        "from keras.callbacks import EarlyStopping\n",
        "from keras.layers import Dropout\n",
        "from sklearn.model_selection import train_test_split\n",
        "from sklearn.metrics import confusion_matrix, classification_report, f1_score\n",
        "from sklearn.utils import resample\n",
        "\n",
        "\n",
        "import warnings\n",
        "warnings.filterwarnings('ignore')"
      ],
      "execution_count": null,
      "outputs": []
    },
    {
      "cell_type": "markdown",
      "metadata": {
        "id": "-XgKbANxGvHz"
      },
      "source": [
        "Reading CSV File"
      ]
    },
    {
      "cell_type": "code",
      "metadata": {
        "id": "ixxZu7vUUpWE",
        "colab": {
          "base_uri": "https://localhost:8080/",
          "height": 419
        },
        "outputId": "88534504-4e15-4f2d-c4b8-7d3693acf3a1"
      },
      "source": [
        "df = pd.read_csv ('/content/drive/My Drive/downsamples.csv',sep=',')\n",
        "#drop the wrong number column\n",
        "del df['Unnamed: 0']\n",
        "df"
      ],
      "execution_count": null,
      "outputs": [
        {
          "output_type": "execute_result",
          "data": {
            "text/html": [
              "<div>\n",
              "<style scoped>\n",
              "    .dataframe tbody tr th:only-of-type {\n",
              "        vertical-align: middle;\n",
              "    }\n",
              "\n",
              "    .dataframe tbody tr th {\n",
              "        vertical-align: top;\n",
              "    }\n",
              "\n",
              "    .dataframe thead th {\n",
              "        text-align: right;\n",
              "    }\n",
              "</style>\n",
              "<table border=\"1\" class=\"dataframe\">\n",
              "  <thead>\n",
              "    <tr style=\"text-align: right;\">\n",
              "      <th></th>\n",
              "      <th>text</th>\n",
              "      <th>sentiment</th>\n",
              "    </tr>\n",
              "  </thead>\n",
              "  <tbody>\n",
              "    <tr>\n",
              "      <th>0</th>\n",
              "      <td>rt abvobekk passolig alan ben taraftar bin bir...</td>\n",
              "      <td>0</td>\n",
              "    </tr>\n",
              "    <tr>\n",
              "      <th>1</th>\n",
              "      <td>rt haberallan digitürk üyeliği olan kişi iptal...</td>\n",
              "      <td>0</td>\n",
              "    </tr>\n",
              "    <tr>\n",
              "      <th>2</th>\n",
              "      <td>digiturk sporun yıldızı paketine üye olmadan m...</td>\n",
              "      <td>0</td>\n",
              "    </tr>\n",
              "    <tr>\n",
              "      <th>3</th>\n",
              "      <td>rt celepgs olası bir yabancı sınırı kısıtlamas...</td>\n",
              "      <td>0</td>\n",
              "    </tr>\n",
              "    <tr>\n",
              "      <th>4</th>\n",
              "      <td>rt gripolar digitürk iptali arayan behzat uygu...</td>\n",
              "      <td>0</td>\n",
              "    </tr>\n",
              "    <tr>\n",
              "      <th>...</th>\n",
              "      <td>...</td>\n",
              "      <td>...</td>\n",
              "    </tr>\n",
              "    <tr>\n",
              "      <th>2695</th>\n",
              "      <td>teşekkürler digiturk devamını bekliyoruz digit...</td>\n",
              "      <td>1</td>\n",
              "    </tr>\n",
              "    <tr>\n",
              "      <th>2696</th>\n",
              "      <td>iyi digitürk almışım diyorum yaz akşamları fil...</td>\n",
              "      <td>1</td>\n",
              "    </tr>\n",
              "    <tr>\n",
              "      <th>2697</th>\n",
              "      <td>digitürk digiturkdestek yıllık digitürk abonel...</td>\n",
              "      <td>1</td>\n",
              "    </tr>\n",
              "    <tr>\n",
              "      <th>2698</th>\n",
              "      <td>yine babam oğlum izleyip aralıksız ağladım teş...</td>\n",
              "      <td>1</td>\n",
              "    </tr>\n",
              "    <tr>\n",
              "      <th>2699</th>\n",
              "      <td>digiturkdestek gün içerisinde tarafıma dönüş y...</td>\n",
              "      <td>1</td>\n",
              "    </tr>\n",
              "  </tbody>\n",
              "</table>\n",
              "<p>2700 rows × 2 columns</p>\n",
              "</div>"
            ],
            "text/plain": [
              "                                                   text  sentiment\n",
              "0     rt abvobekk passolig alan ben taraftar bin bir...          0\n",
              "1     rt haberallan digitürk üyeliği olan kişi iptal...          0\n",
              "2     digiturk sporun yıldızı paketine üye olmadan m...          0\n",
              "3     rt celepgs olası bir yabancı sınırı kısıtlamas...          0\n",
              "4     rt gripolar digitürk iptali arayan behzat uygu...          0\n",
              "...                                                 ...        ...\n",
              "2695  teşekkürler digiturk devamını bekliyoruz digit...          1\n",
              "2696  iyi digitürk almışım diyorum yaz akşamları fil...          1\n",
              "2697  digitürk digiturkdestek yıllık digitürk abonel...          1\n",
              "2698  yine babam oğlum izleyip aralıksız ağladım teş...          1\n",
              "2699  digiturkdestek gün içerisinde tarafıma dönüş y...          1\n",
              "\n",
              "[2700 rows x 2 columns]"
            ]
          },
          "metadata": {
            "tags": []
          },
          "execution_count": 3
        }
      ]
    },
    {
      "cell_type": "code",
      "metadata": {
        "id": "rnna4G09VVLW"
      },
      "source": [
        "tweets = df['text']\n",
        "sentiments = df['sentiment']"
      ],
      "execution_count": null,
      "outputs": []
    },
    {
      "cell_type": "code",
      "metadata": {
        "id": "uwdltPC1VQe-",
        "colab": {
          "base_uri": "https://localhost:8080/",
          "height": 313
        },
        "outputId": "6ce80c17-e762-403c-96f1-9a97d1b848c7"
      },
      "source": [
        "sentiment_count = sentiments.value_counts()\n",
        "sentiment_count.plot(kind=\"bar\")\n",
        "sentiments.value_counts()"
      ],
      "execution_count": null,
      "outputs": [
        {
          "output_type": "execute_result",
          "data": {
            "text/plain": [
              "0    1852\n",
              "1     848\n",
              "Name: sentiment, dtype: int64"
            ]
          },
          "metadata": {
            "tags": []
          },
          "execution_count": 5
        },
        {
          "output_type": "display_data",
          "data": {
            "image/png": "[encoded data removed]",
            "text/plain": [
              "<Figure size 432x288 with 1 Axes>"
            ]
          },
          "metadata": {
            "tags": [],
            "needs_background": "light"
          }
        }
      ]
    },
    {
      "cell_type": "markdown",
      "metadata": {
        "id": "-5dLg_WsG4b3"
      },
      "source": [
        "Cleaning Data\n"
      ]
    },
    {
      "cell_type": "code",
      "metadata": {
        "id": "i90YoUY9l3VW"
      },
      "source": [
        "PUNCTUATIONS = r'''!()-[]{};:'\"\\,<>./?@#$%^&*_~'''\n",
        "NUMBERS = '1234567890'\n",
        "\n",
        "tweets_split = []\n",
        "for i in range(len(df)):\n",
        "  \n",
        "  if df.iloc[i,0] is not None:\n",
        "    for char in PUNCTUATIONS:\n",
        "      for num in NUMBERS:\n",
        "        if char in df.iloc[i,0] and num in df.iloc[i,0]:\n",
        "          df.iloc[i,0] = df.iloc[i,0].replace(char,'').lower()\n",
        "  tweets_split.append(df.iloc[i,0])"
      ],
      "execution_count": null,
      "outputs": []
    },
    {
      "cell_type": "code",
      "metadata": {
        "id": "2FqNpwWll7Ye",
        "colab": {
          "base_uri": "https://localhost:8080/",
          "height": 419
        },
        "outputId": "95308494-d36b-4ca9-efd4-866edaeef969"
      },
      "source": [
        "df\n"
      ],
      "execution_count": null,
      "outputs": [
        {
          "output_type": "execute_result",
          "data": {
            "text/html": [
              "<div>\n",
              "<style scoped>\n",
              "    .dataframe tbody tr th:only-of-type {\n",
              "        vertical-align: middle;\n",
              "    }\n",
              "\n",
              "    .dataframe tbody tr th {\n",
              "        vertical-align: top;\n",
              "    }\n",
              "\n",
              "    .dataframe thead th {\n",
              "        text-align: right;\n",
              "    }\n",
              "</style>\n",
              "<table border=\"1\" class=\"dataframe\">\n",
              "  <thead>\n",
              "    <tr style=\"text-align: right;\">\n",
              "      <th></th>\n",
              "      <th>text</th>\n",
              "      <th>sentiment</th>\n",
              "    </tr>\n",
              "  </thead>\n",
              "  <tbody>\n",
              "    <tr>\n",
              "      <th>0</th>\n",
              "      <td>rt abvobekk passolig alan ben taraftar bin bir...</td>\n",
              "      <td>0</td>\n",
              "    </tr>\n",
              "    <tr>\n",
              "      <th>1</th>\n",
              "      <td>rt haberallan digitürk üyeliği olan kişi iptal...</td>\n",
              "      <td>0</td>\n",
              "    </tr>\n",
              "    <tr>\n",
              "      <th>2</th>\n",
              "      <td>digiturk sporun yıldızı paketine üye olmadan m...</td>\n",
              "      <td>0</td>\n",
              "    </tr>\n",
              "    <tr>\n",
              "      <th>3</th>\n",
              "      <td>rt celepgs olası bir yabancı sınırı kısıtlamas...</td>\n",
              "      <td>0</td>\n",
              "    </tr>\n",
              "    <tr>\n",
              "      <th>4</th>\n",
              "      <td>rt gripolar digitürk iptali arayan behzat uygu...</td>\n",
              "      <td>0</td>\n",
              "    </tr>\n",
              "    <tr>\n",
              "      <th>...</th>\n",
              "      <td>...</td>\n",
              "      <td>...</td>\n",
              "    </tr>\n",
              "    <tr>\n",
              "      <th>2695</th>\n",
              "      <td>teşekkürler digiturk devamını bekliyoruz digit...</td>\n",
              "      <td>1</td>\n",
              "    </tr>\n",
              "    <tr>\n",
              "      <th>2696</th>\n",
              "      <td>iyi digitürk almışım diyorum yaz akşamları fil...</td>\n",
              "      <td>1</td>\n",
              "    </tr>\n",
              "    <tr>\n",
              "      <th>2697</th>\n",
              "      <td>digitürk digiturkdestek yıllık digitürk abonel...</td>\n",
              "      <td>1</td>\n",
              "    </tr>\n",
              "    <tr>\n",
              "      <th>2698</th>\n",
              "      <td>yine babam oğlum izleyip aralıksız ağladım teş...</td>\n",
              "      <td>1</td>\n",
              "    </tr>\n",
              "    <tr>\n",
              "      <th>2699</th>\n",
              "      <td>digiturkdestek gün içerisinde tarafıma dönüş y...</td>\n",
              "      <td>1</td>\n",
              "    </tr>\n",
              "  </tbody>\n",
              "</table>\n",
              "<p>2700 rows × 2 columns</p>\n",
              "</div>"
            ],
            "text/plain": [
              "                                                   text  sentiment\n",
              "0     rt abvobekk passolig alan ben taraftar bin bir...          0\n",
              "1     rt haberallan digitürk üyeliği olan kişi iptal...          0\n",
              "2     digiturk sporun yıldızı paketine üye olmadan m...          0\n",
              "3     rt celepgs olası bir yabancı sınırı kısıtlamas...          0\n",
              "4     rt gripolar digitürk iptali arayan behzat uygu...          0\n",
              "...                                                 ...        ...\n",
              "2695  teşekkürler digiturk devamını bekliyoruz digit...          1\n",
              "2696  iyi digitürk almışım diyorum yaz akşamları fil...          1\n",
              "2697  digitürk digiturkdestek yıllık digitürk abonel...          1\n",
              "2698  yine babam oğlum izleyip aralıksız ağladım teş...          1\n",
              "2699  digiturkdestek gün içerisinde tarafıma dönüş y...          1\n",
              "\n",
              "[2700 rows x 2 columns]"
            ]
          },
          "metadata": {
            "tags": []
          },
          "execution_count": 7
        }
      ]
    },
    {
      "cell_type": "markdown",
      "metadata": {
        "id": "D5Fop0ChG73f"
      },
      "source": [
        "Building LSTM Model"
      ]
    },
    {
      "cell_type": "code",
      "metadata": {
        "id": "Od_G0WgrmD3n"
      },
      "source": [
        "\n",
        "# The maximum number of words to be used. (most frequent)\n",
        "MAX_NB_WORDS = 1000\n",
        "# Max number of words in each complaint.\n",
        "MAX_SEQUENCE_LENGTH = 30\n",
        "# This is fixed.\n",
        "EMBEDDING_DIM = 100"
      ],
      "execution_count": null,
      "outputs": []
    },
    {
      "cell_type": "code",
      "metadata": {
        "id": "uRUNKP2mmIHV",
        "colab": {
          "base_uri": "https://localhost:8080/"
        },
        "outputId": "5e80f308-7e17-47e1-e5fa-ad33ca0ffde5"
      },
      "source": [
        "## Tokenizing and checking the shapes of tensor(for testing purposes)\n",
        "tk = Tokenizer(num_words=MAX_NB_WORDS, filters='!\"#$%&()*+,./:;<=>?@[\\\\]^_`{|}~\\t\\n')\n",
        "tk.fit_on_texts(tweets_split)\n",
        "X = tk.texts_to_sequences(tweets_split)\n",
        "# print(X[0])\n",
        "X = pad_sequences(X, maxlen=MAX_SEQUENCE_LENGTH)\n",
        "print('Shape of data tensor:', X.shape)\n",
        "\n",
        "Y = pd.get_dummies(df['sentiment']).values\n",
        "print('Shape of DM_Score tensor:', Y.shape)"
      ],
      "execution_count": null,
      "outputs": [
        {
          "output_type": "stream",
          "text": [
            "Shape of data tensor: (2700, 30)\n",
            "Shape of DM_Score tensor: (2700, 2)\n"
          ],
          "name": "stdout"
        }
      ]
    },
    {
      "cell_type": "code",
      "metadata": {
        "id": "qmfYWheKmJ_t",
        "colab": {
          "base_uri": "https://localhost:8080/"
        },
        "outputId": "01648aee-de0d-4229-d4a3-ff18583be945"
      },
      "source": [
        "## Splitting data set into train and test set\n",
        "\n",
        "X_train, X_test, y_train, y_test = train_test_split(X, Y, stratify=df[['sentiment']], test_size=0.15, random_state=42)   \n",
        "\n",
        "## Checking the shape of the train and test set(For testing purposes) \n",
        "\n",
        "print(X_train.shape,y_train.shape)\n",
        "print(X_test.shape,y_test.shape)\n",
        "\n",
        "print(\"input length is  :\", X.shape[1])"
      ],
      "execution_count": null,
      "outputs": [
        {
          "output_type": "stream",
          "text": [
            "(2295, 30) (2295, 2)\n",
            "(405, 30) (405, 2)\n",
            "input length is  : 30\n"
          ],
          "name": "stdout"
        }
      ]
    },
    {
      "cell_type": "code",
      "metadata": {
        "id": "JdepZIEGmLuw",
        "colab": {
          "base_uri": "https://localhost:8080/"
        },
        "outputId": "315858ae-3f52-4637-85e4-06377f97af65"
      },
      "source": [
        "## Generating model\n",
        "model = Sequential()\n",
        "model.add(Embedding(MAX_NB_WORDS, EMBEDDING_DIM, input_length=X.shape[1]))\n",
        "model.add(SpatialDropout1D(0.3))\n",
        "model.add(LSTM(256, dropout=0.2, recurrent_dropout=0.2))\n",
        "model.add(Dense(2, activation='sigmoid'))\n",
        "model.compile(loss='binary_crossentropy', optimizer='adam', metrics=['accuracy'])\n",
        "print(model.summary())"
      ],
      "execution_count": null,
      "outputs": [
        {
          "output_type": "stream",
          "text": [
            "Model: \"sequential\"\n",
            "_________________________________________________________________\n",
            "Layer (type)                 Output Shape              Param #   \n",
            "=================================================================\n",
            "embedding (Embedding)        (None, 30, 100)           100000    \n",
            "_________________________________________________________________\n",
            "spatial_dropout1d (SpatialDr (None, 30, 100)           0         \n",
            "_________________________________________________________________\n",
            "lstm (LSTM)                  (None, 256)               365568    \n",
            "_________________________________________________________________\n",
            "dense (Dense)                (None, 2)                 514       \n",
            "=================================================================\n",
            "Total params: 466,082\n",
            "Trainable params: 466,082\n",
            "Non-trainable params: 0\n",
            "_________________________________________________________________\n",
            "None\n"
          ],
          "name": "stdout"
        }
      ]
    },
    {
      "cell_type": "markdown",
      "metadata": {
        "id": "0klu0kkTG_s8"
      },
      "source": [
        "Training Model"
      ]
    },
    {
      "cell_type": "code",
      "metadata": {
        "id": "zfBK2jc0mOWF",
        "colab": {
          "base_uri": "https://localhost:8080/"
        },
        "outputId": "5f2a1462-166c-431b-bc10-25d0c979e9a8"
      },
      "source": [
        "\n",
        "\n",
        "epochs = 10\n",
        "batch_size = 16\n",
        "\n",
        "history = model.fit(X_train, y_train, epochs=epochs, batch_size=batch_size,validation_split=0.1)\n",
        "\n",
        "accr = model.evaluate(X_test,y_test)\n",
        "print('Test set\\n  Loss: {:0.3f}\\n  Accuracy: {:0.3f}'.format(accr[0],accr[1]))"
      ],
      "execution_count": null,
      "outputs": [
        {
          "output_type": "stream",
          "text": [
            "Epoch 1/10\n",
            "130/130 [==============================] - 26s 200ms/step - loss: 0.4945 - accuracy: 0.7734 - val_loss: 0.3954 - val_accuracy: 0.8217\n",
            "Epoch 2/10\n",
            "130/130 [==============================] - 26s 199ms/step - loss: 0.2767 - accuracy: 0.8809 - val_loss: 0.3999 - val_accuracy: 0.8217\n",
            "Epoch 3/10\n",
            "130/130 [==============================] - 26s 198ms/step - loss: 0.2273 - accuracy: 0.9012 - val_loss: 0.3956 - val_accuracy: 0.8217\n",
            "Epoch 4/10\n",
            "130/130 [==============================] - 26s 197ms/step - loss: 0.1874 - accuracy: 0.9230 - val_loss: 0.4556 - val_accuracy: 0.8304\n",
            "Epoch 5/10\n",
            "130/130 [==============================] - 26s 200ms/step - loss: 0.1658 - accuracy: 0.9375 - val_loss: 0.4793 - val_accuracy: 0.8304\n",
            "Epoch 6/10\n",
            "130/130 [==============================] - 26s 198ms/step - loss: 0.1556 - accuracy: 0.9366 - val_loss: 0.4695 - val_accuracy: 0.8217\n",
            "Epoch 7/10\n",
            "130/130 [==============================] - 26s 199ms/step - loss: 0.1348 - accuracy: 0.9443 - val_loss: 0.5436 - val_accuracy: 0.8087\n",
            "Epoch 8/10\n",
            "130/130 [==============================] - 26s 197ms/step - loss: 0.1157 - accuracy: 0.9593 - val_loss: 0.5197 - val_accuracy: 0.8043\n",
            "Epoch 9/10\n",
            "130/130 [==============================] - 26s 198ms/step - loss: 0.0991 - accuracy: 0.9627 - val_loss: 0.7208 - val_accuracy: 0.8174\n",
            "Epoch 10/10\n",
            "130/130 [==============================] - 26s 200ms/step - loss: 0.0823 - accuracy: 0.9651 - val_loss: 0.6687 - val_accuracy: 0.8348\n",
            "13/13 [==============================] - 0s 26ms/step - loss: 0.4237 - accuracy: 0.8815\n",
            "Test set\n",
            "  Loss: 0.424\n",
            "  Accuracy: 0.881\n"
          ],
          "name": "stdout"
        }
      ]
    },
    {
      "cell_type": "code",
      "metadata": {
        "id": "0aNemJm6mVwx",
        "colab": {
          "base_uri": "https://localhost:8080/",
          "height": 312
        },
        "outputId": "971e7df9-ff2f-4a84-86e7-30e17131f11d"
      },
      "source": [
        "plt.figure(1)\n",
        "plt.plot(history.history['loss'])\n",
        "plt.plot(history.history['val_loss'])\n",
        "plt.legend(['training ', 'validation'])\n",
        "plt.title(\"Loss\")\n",
        "plt.xlabel('epoch')"
      ],
      "execution_count": null,
      "outputs": [
        {
          "output_type": "execute_result",
          "data": {
            "text/plain": [
              "Text(0.5, 0, 'epoch')"
            ]
          },
          "metadata": {
            "tags": []
          },
          "execution_count": 13
        },
        {
          "output_type": "display_data",
          "data": {
            "image/png": "[encoded data removed]",
            "text/plain": [
              "<Figure size 432x288 with 1 Axes>"
            ]
          },
          "metadata": {
            "tags": [],
            "needs_background": "light"
          }
        }
      ]
    },
    {
      "cell_type": "markdown",
      "metadata": {
        "id": "29PoHphiHQUN"
      },
      "source": [
        "Sample Predictions"
      ]
    },
    {
      "cell_type": "code",
      "metadata": {
        "id": "N9P2TYKwnofL",
        "colab": {
          "base_uri": "https://localhost:8080/"
        },
        "outputId": "0ae70e69-41b7-42e5-9b31-4926bb6b614e"
      },
      "source": [
        "\n",
        "# liste =['sikeyim sizin yapacaginiz isi digiturk ']\n",
        "liste =['digiturk cok seviyoruz ailecek izliyoruz ']\n",
        "# liste =['digiturk ne berabat sey']\n",
        "# liste =['digiturk ne guzel goller gosteriyor ']\n",
        "# liste =['digiturk hirizsiniz cebimden para caliyosunuz']\n",
        "\n",
        "tk.fit_on_texts(liste)\n",
        "X = tk.texts_to_sequences(liste)\n",
        "# print(X)\n",
        "\n",
        "\n",
        "X = pad_sequences(X, maxlen=MAX_SEQUENCE_LENGTH)\n",
        "result = model.predict(X, batch_size=1)\n",
        "print(result)\n",
        "\n",
        "if result.item(0)> result.item(1):\n",
        "  print('The tweet you typed is negative with ' + str(result.item(0)) +' probability')\n",
        "else:\n",
        "  print('The tweet you typed is positive with ' + str(result.item(1)) +' probability')\n"
      ],
      "execution_count": null,
      "outputs": [
        {
          "output_type": "stream",
          "text": [
            "[[0.01987767 0.97964203]]\n",
            "The tweet you typed is positive with 0.9796420335769653 probability\n"
          ],
          "name": "stdout"
        }
      ]
    },
    {
      "cell_type": "markdown",
      "metadata": {
        "id": "vkiUarIkHHEw"
      },
      "source": [
        "Saving Model to a .h5 file"
      ]
    },
    {
      "cell_type": "code",
      "metadata": {
        "id": "k8LzMm5QrUXh",
        "colab": {
          "base_uri": "https://localhost:8080/"
        },
        "outputId": "2c375408-f0d9-4a9d-bbeb-6d2859453b0d"
      },
      "source": [
        "\n",
        "model.save(\"twitter_sentiment_analysis.h5\")\n",
        "print(\"Saved model to disk\")\n"
      ],
      "execution_count": null,
      "outputs": [
        {
          "output_type": "stream",
          "text": [
            "Saved model to disk\n"
          ],
          "name": "stdout"
        }
      ]
    },
    {
      "cell_type": "markdown",
      "metadata": {
        "id": "OdEOnos_5JrZ"
      },
      "source": [
        "Converting .h5 model to pkl\n"
      ]
    }
  ]
}